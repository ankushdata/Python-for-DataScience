{
 "cells": [
  {
   "cell_type": "markdown",
   "metadata": {},
   "source": [
    "## Below questions are based on the given dataset?"
   ]
  },
  {
   "cell_type": "markdown",
   "metadata": {},
   "source": [
    "* Please give the count of total number of unique states and union territories?\n",
    "* Please showcase the number of districts each state and UT is having?\n",
    "* Please mention the top 3 states that has the maximum number of District Hospital\n",
    "* Please get the dataset for all the districts that starts with S?\n",
    "* Please spool the the dataset for  the Assam and Haryana whose districts ends with S?\n",
    "* Please spool the the dataset for all states other than Gujarat and Bihar whose districts starts with r?\n",
    "* Please give the count of districts that has more than 400 Sub_Centres and more than 100 PHCs and Sub_Divisional_Hospital greater than 4\n",
    "* Please generate the list of states and union territories that has more than 30 districts"
   ]
  }
 ],
 "metadata": {
  "kernelspec": {
   "display_name": "Python 3",
   "language": "python",
   "name": "python3"
  },
  "language_info": {
   "codemirror_mode": {
    "name": "ipython",
    "version": 3
   },
   "file_extension": ".py",
   "mimetype": "text/x-python",
   "name": "python",
   "nbconvert_exporter": "python",
   "pygments_lexer": "ipython3",
   "version": "3.6.4"
  }
 },
 "nbformat": 4,
 "nbformat_minor": 2
}
