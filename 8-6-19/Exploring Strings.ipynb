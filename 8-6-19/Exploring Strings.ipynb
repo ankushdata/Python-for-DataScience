{
 "cells": [
  {
   "cell_type": "markdown",
   "metadata": {},
   "source": [
    "## Topics in this jupyter notebook:\n",
    "* Features of strings\n",
    "* slicing / slicing in strings\n",
    "* Operations of strings:\n",
    " * Appending\n",
    " * Concatenation\n",
    " * Multiplication\n",
    "* Important methods of strings\n",
    " * upper\n",
    " * swapcase\n",
    " * len\n",
    " * replace\n",
    " * strip\n"
   ]
  },
  {
   "cell_type": "markdown",
   "metadata": {},
   "source": [
    "###   Characterstics of a string:\n",
    "\n",
    "* Anything that is delimited within a quitation mark is termed as a string\n",
    "* Strings can have spaces. e.g 'Python is a very interesting'\n",
    "* Python strings are immutable\n",
    "\n",
    "What is immutable? Unchangeable which means once created then we can just overwrtie, but cannot make any change \n",
    "\n"
   ]
  },
  {
   "cell_type": "code",
   "execution_count": 1,
   "metadata": {},
   "outputs": [
    {
     "data": {
      "text/plain": [
       "'r'"
      ]
     },
     "execution_count": 1,
     "metadata": {},
     "output_type": "execute_result"
    }
   ],
   "source": [
    "# How to access the characters in a string?      Through 'slicing'\n",
    "\n",
    "# A point to keep in mind??      Python is a zero indexed language!!\n",
    "\n",
    "day = 'saturday'\n",
    "\n",
    "# here we have defined a varibale day, now if we want to call the 'r' in the day. For this we use slicing\n",
    "# for this we will start counting s from zero and then go till 'r'. here we have just used the place of the word.\n",
    "\n",
    "day[4]\n"
   ]
  },
  {
   "cell_type": "markdown",
   "metadata": {},
   "source": [
    "### In this case we want to get just a single word but few words. For this we use slicing. \n",
    "\n",
    "* print word[0]          :    get one char of the word\n",
    "* print word[0:1]        : get one char of the word (same as above)\n",
    "* print word[0:3]        : get the first three char\n",
    "* print word[:3]         : get the first three char\n",
    "* print word[3:]         : get all but the three first char"
   ]
  },
  {
   "cell_type": "code",
   "execution_count": 2,
   "metadata": {},
   "outputs": [
    {
     "data": {
      "text/plain": [
       "'s'"
      ]
     },
     "execution_count": 2,
     "metadata": {},
     "output_type": "execute_result"
    }
   ],
   "source": [
    "# Lets try out the above examples on a string the we have defined above.\n",
    "day[0]"
   ]
  },
  {
   "cell_type": "code",
   "execution_count": null,
   "metadata": {},
   "outputs": [],
   "source": []
  },
  {
   "cell_type": "code",
   "execution_count": 19,
   "metadata": {},
   "outputs": [
    {
     "name": "stdout",
     "output_type": "stream",
     "text": [
      "saturday sunday\n"
     ]
    }
   ],
   "source": [
    "###. Largely used operations in Python Strings: Addition, Multiplications & Appending\n",
    "\n",
    "two_days = 'saturday' + ' ' + 'sunday'\n",
    "print(two_days)\n",
    "\n",
    "# so the addition plays the role of concatenation in strings"
   ]
  },
  {
   "cell_type": "code",
   "execution_count": 20,
   "metadata": {},
   "outputs": [
    {
     "name": "stdout",
     "output_type": "stream",
     "text": [
      "note_counts note_counts \n"
     ]
    }
   ],
   "source": [
    "# Multiplication: comes in handy if we want the multilple copies of a particular strings.\n",
    "\n",
    "multiplication_use = 'note_counts ' * 2\n",
    "print(multiplication_use)"
   ]
  },
  {
   "cell_type": "code",
   "execution_count": 21,
   "metadata": {},
   "outputs": [
    {
     "name": "stdout",
     "output_type": "stream",
     "text": [
      "first_word second_word\n"
     ]
    }
   ],
   "source": [
    "# Appending:  for appending we use += sign.\n",
    "\n",
    "a = 'first_word'\n",
    "\n",
    "a += ' second_word'\n",
    "\n",
    "print(a)"
   ]
  },
  {
   "cell_type": "code",
   "execution_count": null,
   "metadata": {},
   "outputs": [],
   "source": []
  },
  {
   "cell_type": "code",
   "execution_count": 11,
   "metadata": {},
   "outputs": [
    {
     "name": "stdout",
     "output_type": "stream",
     "text": [
      "PYTHON IS THE BEST PROGRAMING LANGUAGE\n"
     ]
    }
   ],
   "source": [
    "###.    Important methods in python:\n",
    "\n",
    "# Changing strings to the upper and lower case:\n",
    "check_string = 'Python is the BEST programing language'\n",
    "\n",
    "print(check_string.upper())\n",
    "\n",
    "# over here everything gets changed to the upper case.\n"
   ]
  },
  {
   "cell_type": "code",
   "execution_count": 12,
   "metadata": {},
   "outputs": [],
   "source": [
    "# In order to change all the characters in python to lower case we use -  .lower\n",
    "\n",
    "# Please use help me with this one.\n",
    "\n"
   ]
  },
  {
   "cell_type": "code",
   "execution_count": 13,
   "metadata": {},
   "outputs": [
    {
     "name": "stdout",
     "output_type": "stream",
     "text": [
      "pYTHON IS AN INTERPRETER LANGUAGE. THOUGH COMPARATIVELY SLOW BUT VERY EFFECTIVE.\n"
     ]
    }
   ],
   "source": [
    "# swapcase: again an interesting method in Python. It just makes the upper case lower and vice a vera.\n",
    "\n",
    "check_capitalize = 'Python is an interpreter language. though comparatively slow but very effective.'\n",
    "\n",
    "print(check_capitalize.swapcase())"
   ]
  },
  {
   "cell_type": "code",
   "execution_count": 14,
   "metadata": {},
   "outputs": [
    {
     "name": "stdout",
     "output_type": "stream",
     "text": [
      "Absolutely replace method work fine\n"
     ]
    }
   ],
   "source": [
    "# Replace: In order to change a substring by a string we can use replace.  \n",
    "#.      Again the question is - Is the strings property of immutability being compromised?\n",
    "\n",
    "check_string = 'Does replace method work fine'\n",
    "\n",
    "checked_string = check_string.replace('Does', 'Absolutely')\n",
    "\n",
    "print(checked_string)"
   ]
  },
  {
   "cell_type": "code",
   "execution_count": 15,
   "metadata": {},
   "outputs": [
    {
     "name": "stdout",
     "output_type": "stream",
     "text": [
      "23\n"
     ]
    }
   ],
   "source": [
    "# Length: getting to know the leaght of the string.\n",
    "\n",
    "find_numbers = 'how long is our string.'\n",
    "\n",
    "print(len(find_numbers))\n",
    "\n",
    "# It is comprised of 23 characters."
   ]
  },
  {
   "cell_type": "code",
   "execution_count": null,
   "metadata": {},
   "outputs": [],
   "source": []
  },
  {
   "cell_type": "markdown",
   "metadata": {},
   "source": [
    " Please refer to following [link](https://www.tutorialspoint.com/python/python_strings.htm) for knowing more about strings"
   ]
  }
 ],
 "metadata": {
  "kernelspec": {
   "display_name": "Python 3",
   "language": "python",
   "name": "python3"
  },
  "language_info": {
   "codemirror_mode": {
    "name": "ipython",
    "version": 3
   },
   "file_extension": ".py",
   "mimetype": "text/x-python",
   "name": "python",
   "nbconvert_exporter": "python",
   "pygments_lexer": "ipython3",
   "version": "3.6.4"
  }
 },
 "nbformat": 4,
 "nbformat_minor": 2
}
