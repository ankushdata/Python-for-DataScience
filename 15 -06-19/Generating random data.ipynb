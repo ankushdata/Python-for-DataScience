{
 "cells": [
  {
   "cell_type": "markdown",
   "metadata": {},
   "source": [
    "## Topics to cover in the notebook:\n",
    "* Generate random numbers for various distributions including integer and floats."
   ]
  },
  {
   "cell_type": "code",
   "execution_count": 16,
   "metadata": {},
   "outputs": [],
   "source": [
    "import random\n",
    "## random() is the most basic function of the random module."
   ]
  },
  {
   "cell_type": "markdown",
   "metadata": {},
   "source": [
    "## Generating random integers:\n",
    "* A randint(a,b) works only for integers.\n",
    "* The randint(a,b) function accepts two parameters, and both are required."
   ]
  },
  {
   "cell_type": "code",
   "execution_count": 17,
   "metadata": {},
   "outputs": [],
   "source": [
    "from random import randint"
   ]
  },
  {
   "cell_type": "code",
   "execution_count": 18,
   "metadata": {},
   "outputs": [
    {
     "data": {
      "text/plain": [
       "5"
      ]
     },
     "execution_count": 18,
     "metadata": {},
     "output_type": "execute_result"
    }
   ],
   "source": [
    "randint(2,5)"
   ]
  },
  {
   "cell_type": "markdown",
   "metadata": {},
   "source": [
    "## If we want some random element from the list:"
   ]
  },
  {
   "cell_type": "code",
   "execution_count": 44,
   "metadata": {},
   "outputs": [
    {
     "name": "stdout",
     "output_type": "stream",
     "text": [
      "Select random element from list -  A.P\n"
     ]
    }
   ],
   "source": [
    "city_list = ['New Delhi', 'Punjab', 'Karnataka', 'A.P', 'Goa']\n",
    "print(\"Select random element from list - \", random.choice(city_list))"
   ]
  },
  {
   "cell_type": "code",
   "execution_count": null,
   "metadata": {},
   "outputs": [],
   "source": []
  },
  {
   "cell_type": "markdown",
   "metadata": {},
   "source": [
    "## Generating Multiple elements from a list:"
   ]
  },
  {
   "cell_type": "code",
   "execution_count": 48,
   "metadata": {},
   "outputs": [
    {
     "name": "stdout",
     "output_type": "stream",
     "text": [
      "random.sample()  [5, 9, 12]\n"
     ]
    }
   ],
   "source": [
    "list1 = [2,5,8,9,12]\n",
    "print (\"random.sample() \",random.sample(list1,3))"
   ]
  },
  {
   "cell_type": "code",
   "execution_count": null,
   "metadata": {},
   "outputs": [],
   "source": []
  },
  {
   "cell_type": "markdown",
   "metadata": {},
   "source": [
    "## Getting elements from a list, just the shuffling of the elements will be done:"
   ]
  },
  {
   "cell_type": "code",
   "execution_count": 49,
   "metadata": {},
   "outputs": [
    {
     "name": "stdout",
     "output_type": "stream",
     "text": [
      "Printing shuffled list  [9, 2, 8, 5, 12]\n"
     ]
    }
   ],
   "source": [
    "list1 = [2,5,8,9,12]\n",
    "random.shuffle(list1)\n",
    "print (\"Printing shuffled list \", list1)"
   ]
  },
  {
   "cell_type": "code",
   "execution_count": null,
   "metadata": {},
   "outputs": [],
   "source": []
  },
  {
   "cell_type": "markdown",
   "metadata": {},
   "source": [
    "## Python Numpy module:\n",
    "* Whenever you want to generate an array of random numbers you need to use numpy.random.\n",
    "* numpy has the numpy.random package which has multiple functions to generate the random n-dimensional array for various distributions."
   ]
  },
  {
   "cell_type": "code",
   "execution_count": 50,
   "metadata": {},
   "outputs": [],
   "source": [
    "import numpy as np"
   ]
  },
  {
   "cell_type": "code",
   "execution_count": 51,
   "metadata": {},
   "outputs": [
    {
     "data": {
      "text/plain": [
       "0.5525249174558206"
      ]
     },
     "execution_count": 51,
     "metadata": {},
     "output_type": "execute_result"
    }
   ],
   "source": [
    "np.random.rand()"
   ]
  },
  {
   "cell_type": "code",
   "execution_count": null,
   "metadata": {},
   "outputs": [],
   "source": []
  },
  {
   "cell_type": "markdown",
   "metadata": {},
   "source": [
    "## Generate a random n-dimensional array of float numbers"
   ]
  },
  {
   "cell_type": "markdown",
   "metadata": {},
   "source": [
    "* Use numpy.random.rand() to generate an n-dimensional array of random float numbers in the range of [0.0, 1.0)\n",
    "* Use numpy.random.uniform to generate an n-dimensional array of random float numbers in the range of [low, high)"
   ]
  },
  {
   "cell_type": "code",
   "execution_count": 52,
   "metadata": {},
   "outputs": [
    {
     "data": {
      "text/plain": [
       "array([[0.8107692 , 0.98447939],\n",
       "       [0.43385124, 0.61605599]])"
      ]
     },
     "execution_count": 52,
     "metadata": {},
     "output_type": "execute_result"
    }
   ],
   "source": [
    "import numpy\n",
    "numpy.random.rand(2, 2)"
   ]
  },
  {
   "cell_type": "code",
   "execution_count": 53,
   "metadata": {},
   "outputs": [
    {
     "data": {
      "text/plain": [
       "array([[92.92279228, 49.44112099],\n",
       "       [88.11105053, 63.04792379],\n",
       "       [37.68648836, 70.05265552]])"
      ]
     },
     "execution_count": 53,
     "metadata": {},
     "output_type": "execute_result"
    }
   ],
   "source": [
    "random_float_array = numpy.random.uniform(25.5, 99.5, size=(3, 2))\n",
    "random_float_array"
   ]
  },
  {
   "cell_type": "code",
   "execution_count": null,
   "metadata": {},
   "outputs": [],
   "source": []
  },
  {
   "cell_type": "markdown",
   "metadata": {},
   "source": [
    "## Generate a random n-dimensional array of Integers numbers : \n",
    "* numpy.random.randint()to generate a random n-dimensional array of integers."
   ]
  },
  {
   "cell_type": "code",
   "execution_count": 54,
   "metadata": {},
   "outputs": [
    {
     "data": {
      "text/plain": [
       "array([4, 3, 4, 1, 2])"
      ]
     },
     "execution_count": 54,
     "metadata": {},
     "output_type": "execute_result"
    }
   ],
   "source": [
    "random_integer = numpy.random.randint(1, 10, 5)\n",
    "random_integer\n",
    "# Here in the parameters:\n",
    "## First and the second are used for generating the "
   ]
  },
  {
   "cell_type": "markdown",
   "metadata": {},
   "source": [
    "## Generating the two dimentional array(matrix out of the numbers):"
   ]
  },
  {
   "cell_type": "code",
   "execution_count": 55,
   "metadata": {},
   "outputs": [
    {
     "data": {
      "text/plain": [
       "array([[2, 3],\n",
       "       [8, 6]])"
      ]
     },
     "execution_count": 55,
     "metadata": {},
     "output_type": "execute_result"
    }
   ],
   "source": [
    "numpy.random.randint(1, 10,  size = (2,2))"
   ]
  },
  {
   "cell_type": "markdown",
   "metadata": {},
   "source": [
    "## Choose the random element from the array of numbers or sequence"
   ]
  },
  {
   "cell_type": "code",
   "execution_count": 59,
   "metadata": {},
   "outputs": [
    {
     "name": "stdout",
     "output_type": "stream",
     "text": [
      "single random choice from 1-D array [10]\n"
     ]
    }
   ],
   "source": [
    "array =[10, 20, 30, 40, 50, 20, 40]\n",
    "single_random_choice = numpy.random.choice(array, size=1)\n",
    "print(\"single random choice from 1-D array\", single_random_choice)"
   ]
  },
  {
   "cell_type": "code",
   "execution_count": 60,
   "metadata": {},
   "outputs": [
    {
     "name": "stdout",
     "output_type": "stream",
     "text": [
      "multiple random choice from 1-D array without replacement  [40 20 50]\n"
     ]
    }
   ],
   "source": [
    "multiple_random_choice = numpy.random.choice(array, size=3, replace=False)\n",
    "print(\"multiple random choice from 1-D array without replacement \", multiple_random_choice)"
   ]
  },
  {
   "cell_type": "code",
   "execution_count": 61,
   "metadata": {},
   "outputs": [
    {
     "name": "stdout",
     "output_type": "stream",
     "text": [
      "multiple random choice from 1-D array with replacement  [30 10 40]\n"
     ]
    }
   ],
   "source": [
    "multiple_random_choice = numpy.random.choice(array, size=3, replace=True)\n",
    "print(\"multiple random choice from 1-D array with replacement \", multiple_random_choice)"
   ]
  }
 ],
 "metadata": {
  "kernelspec": {
   "display_name": "Python 3",
   "language": "python",
   "name": "python3"
  },
  "language_info": {
   "codemirror_mode": {
    "name": "ipython",
    "version": 3
   },
   "file_extension": ".py",
   "mimetype": "text/x-python",
   "name": "python",
   "nbconvert_exporter": "python",
   "pygments_lexer": "ipython3",
   "version": "3.6.4"
  }
 },
 "nbformat": 4,
 "nbformat_minor": 2
}
