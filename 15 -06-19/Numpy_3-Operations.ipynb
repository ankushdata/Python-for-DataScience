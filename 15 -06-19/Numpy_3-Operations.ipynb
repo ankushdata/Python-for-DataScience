{
 "cells": [
  {
   "cell_type": "markdown",
   "metadata": {},
   "source": [
    "##                                        Topics to be covered\n",
    "* Vectorization in Practice\n",
    "* Broadcasting\n",
    "* Going ahead with few more mathematical operations\n"
   ]
  },
  {
   "cell_type": "code",
   "execution_count": null,
   "metadata": {},
   "outputs": [],
   "source": [
    "#                                              Vectorize implementation\n",
    "\n",
    "import numpy as np\n",
    "\n",
    "num = 10000000"
   ]
  },
  {
   "cell_type": "code",
   "execution_count": null,
   "metadata": {},
   "outputs": [],
   "source": [
    "a = np.random.random(num)    #array of 10 million numbers\n",
    "b = np.random.random(num)     # two different arrays."
   ]
  },
  {
   "cell_type": "code",
   "execution_count": null,
   "metadata": {},
   "outputs": [],
   "source": [
    "import time\n",
    "start = time.time()\n",
    "c = np.dot(a,b)\n",
    "end = time.time()\n",
    "print(c)\n",
    "print(\"Verctorize  : \" +  str((end -start)*1000) + 'ms')   # multiplyin by 1000 beacuse it gives in form of a nano-second"
   ]
  },
  {
   "cell_type": "code",
   "execution_count": null,
   "metadata": {},
   "outputs": [],
   "source": [
    "#                                           Non-vectorize implementation\n",
    "start = time.time()\n",
    "c =0\n",
    "for i in range(num):\n",
    "    c += a[i]*b[i]\n",
    "end = time.time()\n",
    "print(c)\n",
    "print(\"Loop version  : \" +  str((end -start)*1000) + 'ms')"
   ]
  },
  {
   "cell_type": "code",
   "execution_count": null,
   "metadata": {},
   "outputs": [],
   "source": []
  },
  {
   "cell_type": "markdown",
   "metadata": {},
   "source": []
  },
  {
   "cell_type": "markdown",
   "metadata": {},
   "source": [
    "## Broadcasting : Treats arrays with different shapes during arithmetic operations.\n",
    "##  the smaller array is “broadcast” across the larger array so that they have compatible shapes.\n",
    "\n",
    "### General Broadcasting Rules\n",
    "When operating on two arrays, NumPy compares their shapes element-wise. It starts with the trailing dimensions, and works its way forward. Two dimensions are compatible when\n",
    "\n",
    "* they are equal, or\n",
    "* one of them is 1"
   ]
  },
  {
   "cell_type": "code",
   "execution_count": null,
   "metadata": {},
   "outputs": [],
   "source": [
    "# NumPy operations are usually done on pairs of arrays on an element-by-element basis.\n",
    "a = np.array([1.0, 2.0, 3.0])\n",
    "b = np.array([2.0, 2.0, 2.0])\n",
    "a * b"
   ]
  },
  {
   "cell_type": "code",
   "execution_count": null,
   "metadata": {},
   "outputs": [],
   "source": [
    "# NumPy’s broadcasting rule relaxes this constraint when the arrays’ shapes meet certain constraints.\n",
    "a = np.array([1.0, 2.0, 3.0])\n",
    "b = 2.0\n",
    "\n",
    "a * b"
   ]
  },
  {
   "cell_type": "code",
   "execution_count": null,
   "metadata": {},
   "outputs": [],
   "source": [
    "# A bit not too straight example of Broadcasting.\n",
    "a = np.array([0.0, 10.0, 20.0, 30.0])\n",
    "b = np.array([1.0, 2.0, 3.0])\n",
    "\n",
    "a[:, np.newaxis] + b  # we are getting the extra row at the top of the existing row. Just because of Numpy.\n"
   ]
  },
  {
   "cell_type": "markdown",
   "metadata": {},
   "source": [
    "[link for exploring Broadcasting](https://jakevdp.github.io/PythonDataScienceHandbook/02.05-computation-on-arrays-broadcasting.html)"
   ]
  },
  {
   "cell_type": "code",
   "execution_count": null,
   "metadata": {},
   "outputs": [],
   "source": [
    "# Number of ufunc available are:\n",
    "- Arithmetic function: +,-,/,//,%,**\n",
    "- Bitwise function - &,|,^,<<,>>\n",
    "- Comparison Operators - <>, <=, >=, ==, !=\n",
    "- Trignometry Family - np.sin, np.cos, np.tan\n",
    "- Special Functions - scipy.special.* "
   ]
  },
  {
   "cell_type": "code",
   "execution_count": null,
   "metadata": {},
   "outputs": [],
   "source": [
    "# aggregations : Are the functions which summarizes the value in an array - like min, max, mean etc.\n",
    "from random import random\n",
    "#c = [random() for i in range(100000)]\n",
    "\n",
    "c = []\n",
    "for i in range(100000):\n",
    "    c.append(i)\n",
    "\n",
    "\n",
    "% timeit min(c)"
   ]
  },
  {
   "cell_type": "code",
   "execution_count": null,
   "metadata": {},
   "outputs": [],
   "source": []
  },
  {
   "cell_type": "code",
   "execution_count": null,
   "metadata": {},
   "outputs": [],
   "source": [
    "c = np.array(c)\n",
    "\n",
    "% timeit c.min()"
   ]
  },
  {
   "cell_type": "code",
   "execution_count": null,
   "metadata": {},
   "outputs": [],
   "source": []
  },
  {
   "cell_type": "code",
   "execution_count": null,
   "metadata": {},
   "outputs": [],
   "source": []
  },
  {
   "cell_type": "code",
   "execution_count": null,
   "metadata": {},
   "outputs": [],
   "source": [
    "# Using them on multidimentional array:\n",
    "M = np.random.randint(0, 10, (3,5))\n",
    "M"
   ]
  },
  {
   "cell_type": "code",
   "execution_count": null,
   "metadata": {},
   "outputs": [],
   "source": [
    "M.sum(axis = 0)   # sum of all the columns"
   ]
  },
  {
   "cell_type": "code",
   "execution_count": null,
   "metadata": {},
   "outputs": [],
   "source": [
    "M.sum(axis = 1)       #sum of all the rows"
   ]
  },
  {
   "cell_type": "code",
   "execution_count": null,
   "metadata": {},
   "outputs": [],
   "source": [
    "Other aggregators that are used are:\n",
    "np.mean()    np.max()    np.sum()    np.prod()    np.min()    np.std()    np.var()\n",
    "np.any()     np.all()    np.media()  np.percentile()     np.argmin()      np.argmax()\n",
    "np.nanmin()   np.nanmax()     np.nansum()"
   ]
  }
 ],
 "metadata": {
  "kernelspec": {
   "display_name": "Python 3",
   "language": "python",
   "name": "python3"
  },
  "language_info": {
   "codemirror_mode": {
    "name": "ipython",
    "version": 3
   },
   "file_extension": ".py",
   "mimetype": "text/x-python",
   "name": "python",
   "nbconvert_exporter": "python",
   "pygments_lexer": "ipython3",
   "version": "3.6.4"
  }
 },
 "nbformat": 4,
 "nbformat_minor": 2
}
